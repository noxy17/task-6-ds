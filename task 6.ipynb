# Task-6: Time Series Analysis
import numpy as np 
import pandas as pd 
import matplotlib.pyplot as plt 
import seaborn as sns 
%matplotlib inline 
#import our dataset 
df= pd.read_csv("heart.csv")

#checking first five rows 
df.head()

df.tail()

#take a look at the column names
df.isna().sum()

df.info()

df.hist(bins=50, grid=False, figsize=(20,15));

df.describe()

questions = ["1. How many peoples have heart disease and how many people doesn't have heart disease? ",
             "2. People of which sex has the most heart disease? ",
             "3. People of which sex has which type of chest pain most? ",
             "4. People with which chest pain are most pron to have heart disease? "]

questions

#find the answers of questions 

#1. how many peoples have heart disease and how many peoples doesn't have heart disease?

df.target.value_counts()

#plot bar chart 
df.target.value_counts().plot(kind ='bar', color=["orchid","salmon"])
plt.title("Heart diseases values")
plt.xlabel("1= Heart Disease,0 =No Heart Disease")
plt.ylabel("Amount")

#plot pie chart 
df.target.value_counts().plot(kind = 'pie', figsize=(8,6))
plt.legend(["Disease","No disease"]);

df.sex.value_counts()

#plotting a pie chart 
df.sex.value_counts().plot(kind='pie',figsize=(8,6))
plt.title("Male Female ratio")
plt.legend(["male","female"]);

#2. People of which sex has most heart disease?
pd.crosstab(df.target, df.sex)

sns.countplot(x = 'target', data=df, hue='sex')
plt.title('Heart disease frequency for sex ')
plt.xlabel('0= No heart diseas, 1= Heart disease');

#3. People of which sex has which type of chest pain most ?

df.cp.value_counts()

#plot bar chart 
df.cp.value_counts().plot(kind = 'bar', color=['salmon', 'lightskyblue','springgreen','khaki'])
plt.title('chest pain type vs count');

pd.crosstab(df.sex, df.cp).plot(kind = 'bar', color=['coral','lightskyblue','plum','khaki'])
plt.title('Type of chest pain for sex')
plt.xlabel('0=Female,        1= Male');

# 4. People with which chest pain are most pron to have heart disease?
pd.crosstab(df.cp, df.target)

sns.countplot(x='cp', data = df , hue = 'target');

#create a distribution plot with normal distribution curve 
sns.displot(x= 'age', data=df, bins=30, kde=True);

#let's plot another distribution plot for 'Maximum heart rate'
sns.displot(x= 'thalach', data=df, bins=30, kde= True, color='chocolate');
