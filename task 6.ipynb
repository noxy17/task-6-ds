# Task-6: Time Series Analysis

import pandas as pd
import matplotlib.pyplot as plt
import seaborn as sns
import statsmodels.api as sm
from statsmodels.tsa.arima.model import ARIMA
from sklearn.metrics import mean_squared_error, mean_absolute_percentage_error
import numpy as np

# 1. Load Dataset (Replace with actual CSV file path)
df = pd.read_csv("sales_data.csv", parse_dates=['Date'])
df.set_index('Date', inplace=True)

# 2. Visualize Sales Trends Over Time
plt.figure(figsize=(12, 6))
sns.lineplot(x=df.index, y=df['Sales'])
plt.title('Sales Over Time')
plt.xlabel('Date')
plt.ylabel('Sales')
plt.grid(True)
plt.show()

# Optional: Plot moving average
df['Sales_MA30'] = df['Sales'].rolling(window=30).mean()
plt.figure(figsize=(12, 6))
plt.plot(df['Sales'], label='Original Sales')
plt.plot(df['Sales_MA30'], label='30-Day Moving Average', color='orange')
plt.title('Sales with Moving Average')
plt.legend()
plt.grid(True)
plt.show()

# 3. Apply ARIMA for Forecasting
# Split data into train and test
train_size = int(len(df) * 0.8)
train, test = df['Sales'][:train_size], df['Sales'][train_size:]

# Fit ARIMA model (order can be tuned)
model = ARIMA(train, order=(5, 1, 0))
model_fit = model.fit()

# Forecast
forecast = model_fit.forecast(steps=len(test))

# Evaluate
rmse = np.sqrt(mean_squared_error(test, forecast))
mape = mean_absolute_percentage_error(test, forecast)

print(f"RMSE: {rmse:.2f}")
print(f"MAPE: {mape:.2%}")

# Plot forecast vs actual
plt.figure(figsize=(12, 6))
plt.plot(train.index, train, label='Train')
plt.plot(test.index, test, label='Test')
plt.plot(test.index, forecast, label='Forecast', linestyle='--')
plt.title('Sales Forecast vs Actual')
plt.xlabel('Date')
plt.ylabel('Sales')
plt.legend()
plt.grid(True)
plt.show()

# 4. Forecast future values (e.g., next 30 days)
model_full = ARIMA(df['Sales'], order=(5, 1, 0)).fit()
future_forecast = model_full.forecast(steps=30)

# Display forecasted values
future_dates = pd.date_range(start=df.index[-1] + pd.Timedelta(days=1), periods=30)
forecast_df = pd.DataFrame({'Date': future_dates, 'Forecasted_Sales': future_forecast})
print(forecast_df)

# Save forecast to CSV
forecast_df.to_csv("forecasted_sales.csv", index=False)
